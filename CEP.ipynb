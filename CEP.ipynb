{
 "cells": [
  {
   "cell_type": "code",
   "execution_count": 1,
   "id": "9d7240fb",
   "metadata": {},
   "outputs": [],
   "source": [
    "import os\n",
    "from torch.utils.data import Dataset, DataLoader\n",
    "from torchvision import transforms\n",
    "import torchvision.io as tvio\n",
    "import matplotlib.pyplot as plt"
   ]
  },
  {
   "cell_type": "code",
   "execution_count": 2,
   "id": "4da79d3d",
   "metadata": {},
   "outputs": [],
   "source": [
    "# Ignore this - used so that matplotlib works.\n",
    "os.environ['KMP_DUPLICATE_LIB_OK'] = 'True'"
   ]
  },
  {
   "cell_type": "code",
   "execution_count": 3,
   "id": "a1d83cf2",
   "metadata": {},
   "outputs": [],
   "source": [
    "# Creating a image dataset class for custom dataset.\n",
    "class CustomImageDataset(Dataset):\n",
    "    def __init__(self, root_dir, transform = None):\n",
    "        self.root_dir = root_dir\n",
    "        self.transform = transform\n",
    "        self.class_to_idx = {class_name: idx for idx, class_name in enumerate(self._find_classes(root_dir))}\n",
    "        self.samples = self._make_dataset(root_dir)\n",
    "        self.classes = list(self.class_to_idx.keys())  # Define the classes attribute\n",
    "\n",
    "    def __getitem__(self, idx):\n",
    "        img_path, class_name = self.samples[idx]\n",
    "        image = self.read_image_as_tensor(img_path) \n",
    "        # Apply transformations\n",
    "        if self.transform:\n",
    "            image = self.transform(image)\n",
    "        return image, self.class_to_idx[class_name]  # Return the index of the class - tensors cannot be string.\n",
    "\n",
    "    def _make_dataset(self, directory):\n",
    "        images = []\n",
    "        for target_class in self.class_to_idx.keys():\n",
    "            target_dir = os.path.join(directory, target_class)\n",
    "            if not os.path.isdir(target_dir):\n",
    "                continue\n",
    "            for root, _, fnames in sorted(os.walk(target_dir)):\n",
    "                for fname in sorted(fnames):\n",
    "                    path = os.path.join(root, fname)\n",
    "                    item = (path, target_class)  \n",
    "                    images.append(item)\n",
    "        return images\n",
    "        \n",
    "    def read_image_as_tensor(self, img_path):\n",
    "        image = tvio.read_image(img_path)\n",
    "        if image.shape[0] == 4:  # PNG image sometimes has 4 channels.\n",
    "            image = image[:3, :, :]  # Keep only the first 3 channels\n",
    "        return image\n",
    "    \n",
    "    def _find_classes(self, directory):\n",
    "        classes = [d.name for d in os.scandir(directory) if d.is_dir()]  # Each subfolder name is the class label.\n",
    "        classes.sort()\n",
    "        return classes\n",
    "    \n",
    "    def __len__(self):\n",
    "        return len(self.samples)\n",
    "    \n",
    "    def __add__(self, other):\n",
    "        concatenated_samples = self.samples + other.samples\n",
    "        concatenated_classes = self.classes + other.classes\n",
    "        concatenated_class_to_idx = {class_name: idx for idx, class_name in enumerate(concatenated_classes)}\n",
    "        concatenated_dataset = CustomImageDataset.__new__(CustomImageDataset)\n",
    "        concatenated_dataset.root_dir = self.root_dir  \n",
    "        concatenated_dataset.transform = self.transform\n",
    "        concatenated_dataset.samples = concatenated_samples\n",
    "        concatenated_dataset.classes = concatenated_classes\n",
    "        concatenated_dataset.class_to_idx = concatenated_class_to_idx\n",
    "        return concatenated_dataset"
   ]
  },
  {
   "cell_type": "code",
   "execution_count": 4,
   "id": "dc2a8653",
   "metadata": {},
   "outputs": [],
   "source": [
    "# Defining transform with some data agumentation\n",
    "aug_trans = transforms.Compose([\n",
    "    transforms.RandomHorizontalFlip(),  \n",
    "    transforms.RandomVerticalFlip(),  \n",
    "    transforms.ColorJitter(brightness=0.1, contrast=0.1, saturation=0.1, hue=0.1),  \n",
    "    transforms.RandomRotation(10),  \n",
    "    transforms.Lambda(lambda x: x / 255.),  # Scale to 0, 1\n",
    "    transforms.Normalize(mean=[0.485, 0.456, 0.406], std=[0.229, 0.224, 0.225]),  # Normalize\n",
    "    transforms.Resize((64, 64))\n",
    "])\n",
    "\n",
    "trans = transforms.Compose([\n",
    "    transforms.Lambda(lambda x: x / 255.),  \n",
    "    transforms.Normalize(mean=[0.485, 0.456, 0.406], std=[0.229, 0.224, 0.225]),  \n",
    "    transforms.Resize((64, 64))\n",
    "])"
   ]
  },
  {
   "cell_type": "code",
   "execution_count": 5,
   "id": "cd2e9464",
   "metadata": {},
   "outputs": [
    {
     "name": "stderr",
     "output_type": "stream",
     "text": [
      "Clipping input data to the valid range for imshow with RGB data ([0..1] for floats or [0..255] for integers).\n",
      "Clipping input data to the valid range for imshow with RGB data ([0..1] for floats or [0..255] for integers).\n",
      "Clipping input data to the valid range for imshow with RGB data ([0..1] for floats or [0..255] for integers).\n"
     ]
    },
    {
     "data": {
      "image/png": "[encoded data removed]",
      "text/plain": [
       "<Figure size 1200x400 with 3 Axes>"
      ]
     },
     "metadata": {},
     "output_type": "display_data"
    },
    {
     "name": "stdout",
     "output_type": "stream",
     "text": [
      "Number of samples = 3104\n"
     ]
    }
   ],
   "source": [
    "# Checking to see if dataset is properly read in.\n",
    "image_folder = 'DL Cep Data'\n",
    "\n",
    "normal = CustomImageDataset(root_dir=image_folder, transform = trans)\n",
    "aug_dataset = CustomImageDataset(root_dir=image_folder, transform = aug_trans)\n",
    "\n",
    "custom_dataset = normal + aug_dataset \n",
    "dataloader = DataLoader(custom_dataset, batch_size=4, shuffle=True)\n",
    "\n",
    "for images, labels in dataloader:\n",
    "    images_np = images.permute(0, 2, 3, 1).numpy() \n",
    "    fig, axes = plt.subplots(1, 3, figsize=(12, 4))\n",
    "    for i in range(3):\n",
    "        class_index = labels[i].item() \n",
    "        class_name = custom_dataset.classes[class_index]  \n",
    "        axes[i].imshow(images_np[i])\n",
    "        axes[i].set_title(f\"Label: {class_name}\") \n",
    "        axes[i].axis('off')\n",
    "    plt.show()\n",
    "    break\n",
    "\n",
    "print(f\"Number of samples = {len(custom_dataset)}\")"
   ]
  },
  {
   "cell_type": "code",
   "execution_count": 6,
   "id": "1e3ffd4d",
   "metadata": {},
   "outputs": [],
   "source": [
    "import torch\n",
    "import torch.nn as nn\n",
    "import torchvision.models as models\n",
    "import torch.optim as optim"
   ]
  },
  {
   "cell_type": "code",
   "execution_count": 7,
   "id": "4df2ab31",
   "metadata": {},
   "outputs": [],
   "source": [
    "# Defining the test, load and validation datasets.\n",
    "from torch.utils.data import random_split\n",
    "\n",
    "train_size = int(0.7 * len(custom_dataset))  # 70% \n",
    "val_size = int(0.2 * len(custom_dataset))    # 20% \n",
    "test_size = len(custom_dataset) - train_size - val_size  # 10%\n",
    "\n",
    "train_dataset, val_dataset, test_dataset = random_split(custom_dataset, [train_size, val_size, test_size])\n",
    "\n",
    "train_dataloader = DataLoader(train_dataset, batch_size=16, shuffle=True) # 32\n",
    "val_dataloader = DataLoader(val_dataset, batch_size=16, shuffle=False)\n",
    "test_dataloader = DataLoader(test_dataset, batch_size=16, shuffle=False)\n"
   ]
  },
  {
   "cell_type": "code",
   "execution_count": 8,
   "id": "f9591831",
   "metadata": {},
   "outputs": [],
   "source": [
    "class VGG16(nn.Module):\n",
    "    def __init__(self, num_classes=10):\n",
    "        super(VGG16, self).__init__()\n",
    "        self.layer1 = nn.Sequential(\n",
    "            nn.Conv2d(3, 64, kernel_size=3, stride=1, padding=1),\n",
    "            nn.BatchNorm2d(64),\n",
    "            nn.ReLU())\n",
    "        self.layer2 = nn.Sequential(\n",
    "            nn.Conv2d(64, 64, kernel_size=3, stride=1, padding=1),\n",
    "            nn.BatchNorm2d(64),\n",
    "            nn.ReLU(), \n",
    "            nn.MaxPool2d(kernel_size=2, stride=2))  # Input image size = 64 x 64, now (32 x 32)\n",
    "        self.layer3 = nn.Sequential(\n",
    "            nn.Conv2d(64, 128, kernel_size=3, stride=1, padding=1),\n",
    "            nn.BatchNorm2d(128),\n",
    "            nn.ReLU())\n",
    "        self.layer4 = nn.Sequential(\n",
    "            nn.Conv2d(128, 128, kernel_size=3, stride=1, padding=1),\n",
    "            nn.BatchNorm2d(128),\n",
    "            nn.ReLU(),\n",
    "            nn.MaxPool2d(kernel_size=2, stride=2)) # (16 x 16)\n",
    "        self.layer5 = nn.Sequential(\n",
    "            nn.Conv2d(128, 256, kernel_size=3, stride=1, padding=1),\n",
    "            nn.BatchNorm2d(256),\n",
    "            nn.ReLU())\n",
    "        self.layer6 = nn.Sequential(\n",
    "            nn.Conv2d(256, 256, kernel_size=3, stride=1, padding=1),\n",
    "            nn.BatchNorm2d(256),\n",
    "            nn.ReLU())\n",
    "        self.layer7 = nn.Sequential(\n",
    "            nn.Conv2d(256, 256, kernel_size=3, stride=1, padding=1),\n",
    "            nn.BatchNorm2d(256),\n",
    "            nn.ReLU(),\n",
    "            nn.MaxPool2d(kernel_size=2, stride=2)) # (8 x 8)\n",
    "        self.layer8 = nn.Sequential(\n",
    "            nn.Conv2d(256, 512, kernel_size=3, stride=1, padding=1),\n",
    "            nn.BatchNorm2d(512),\n",
    "            nn.ReLU())\n",
    "        self.layer9 = nn.Sequential(\n",
    "            nn.Conv2d(512, 512, kernel_size=3, stride=1, padding=1),\n",
    "            nn.BatchNorm2d(512),\n",
    "            nn.ReLU())\n",
    "        self.layer10 = nn.Sequential(\n",
    "            nn.Conv2d(512, 512, kernel_size=3, stride=1, padding=1),\n",
    "            nn.BatchNorm2d(512),\n",
    "            nn.ReLU(),\n",
    "            nn.MaxPool2d(kernel_size=2, stride=2)) # (4 x 4)\n",
    "        self.layer11 = nn.Sequential(\n",
    "            nn.Conv2d(512, 512, kernel_size=3, stride=1, padding=1),\n",
    "            nn.BatchNorm2d(512),\n",
    "            nn.ReLU())\n",
    "        self.layer12 = nn.Sequential(\n",
    "            nn.Conv2d(512, 512, kernel_size=3, stride=1, padding=1),\n",
    "            nn.BatchNorm2d(512),\n",
    "            nn.ReLU())\n",
    "        self.layer13 = nn.Sequential(\n",
    "            nn.Conv2d(512, 512, kernel_size=3, stride=1, padding=1),\n",
    "            nn.BatchNorm2d(512),\n",
    "            nn.ReLU(),\n",
    "            nn.MaxPool2d(kernel_size=2, stride=2)) # (2 x 2)\n",
    "        self.fc = nn.Sequential(\n",
    "            nn.Dropout(0.5),\n",
    "            nn.Linear(512 * 2 * 2, 4096),  # (channels x h x w)\n",
    "            nn.ReLU())\n",
    "        self.fc1 = nn.Sequential(  \n",
    "            nn.Dropout(0.5),\n",
    "            nn.Linear(4096, 4096),\n",
    "            nn.ReLU())\n",
    "        self.fc2 = nn.Sequential(\n",
    "            nn.Linear(4096, num_classes))\n",
    "\n",
    "    def forward(self, x):\n",
    "        out = self.layer1(x)\n",
    "        out = self.layer2(out)\n",
    "        out = self.layer3(out)\n",
    "        out = self.layer4(out)\n",
    "        out = self.layer5(out)\n",
    "        out = self.layer6(out)\n",
    "        out = self.layer7(out)\n",
    "        out = self.layer8(out)\n",
    "        out = self.layer9(out)\n",
    "        out = self.layer10(out)\n",
    "        out = self.layer11(out)\n",
    "        out = self.layer12(out)\n",
    "        out = self.layer13(out)\n",
    "        out = out.view(out.size(0), -1)  \n",
    "        out = self.fc(out)\n",
    "        out = self.fc1(out)\n",
    "        out = self.fc2(out)\n",
    "        return out\n"
   ]
  },
  {
   "cell_type": "code",
   "execution_count": 9,
   "id": "3c421212",
   "metadata": {},
   "outputs": [
    {
     "name": "stderr",
     "output_type": "stream",
     "text": [
      "Epoch 1: 100%|██████████████████████████████████████████████████████████████████████| 68/68 [01:35<00:00,  1.41s/batch]\n"
     ]
    },
    {
     "name": "stdout",
     "output_type": "stream",
     "text": [
      "Training Loss: 3.632432285477133\n",
      "Validation Loss: 7.335020804405213\n",
      "Accuracy: 5.967741935483871%\n"
     ]
    },
    {
     "name": "stderr",
     "output_type": "stream",
     "text": [
      "Epoch 2: 100%|██████████████████████████████████████████████████████████████████████| 68/68 [01:35<00:00,  1.40s/batch]\n"
     ]
    },
    {
     "name": "stdout",
     "output_type": "stream",
     "text": [
      "Training Loss: 2.0564058160080627\n",
      "Validation Loss: 3.258224308490753\n",
      "Accuracy: 44.67741935483871%\n"
     ]
    },
    {
     "name": "stderr",
     "output_type": "stream",
     "text": [
      "Epoch 3: 100%|██████████████████████████████████████████████████████████████████████| 68/68 [01:37<00:00,  1.43s/batch]\n"
     ]
    },
    {
     "name": "stdout",
     "output_type": "stream",
     "text": [
      "Training Loss: 1.2316672214690376\n",
      "Validation Loss: 2.1110335767269133\n",
      "Accuracy: 63.38709677419355%\n"
     ]
    },
    {
     "name": "stderr",
     "output_type": "stream",
     "text": [
      "Epoch 4: 100%|██████████████████████████████████████████████████████████████████████| 68/68 [01:37<00:00,  1.44s/batch]\n"
     ]
    },
    {
     "name": "stdout",
     "output_type": "stream",
     "text": [
      "Training Loss: 0.7648598599959823\n",
      "Validation Loss: 2.9095137655735015\n",
      "Accuracy: 51.12903225806452%\n"
     ]
    },
    {
     "name": "stderr",
     "output_type": "stream",
     "text": [
      "Epoch 5: 100%|██████████████████████████████████████████████████████████████████████| 68/68 [01:36<00:00,  1.42s/batch]\n"
     ]
    },
    {
     "name": "stdout",
     "output_type": "stream",
     "text": [
      "Training Loss: 0.5301018089932554\n",
      "Validation Loss: 2.2949348747730256\n",
      "Accuracy: 62.41935483870968%\n"
     ]
    },
    {
     "name": "stderr",
     "output_type": "stream",
     "text": [
      "Epoch 6: 100%|██████████████████████████████████████████████████████████████████████| 68/68 [01:36<00:00,  1.42s/batch]\n"
     ]
    },
    {
     "name": "stdout",
     "output_type": "stream",
     "text": [
      "Training Loss: 0.42653445373563204\n",
      "Validation Loss: 3.5490097284317015\n",
      "Accuracy: 52.74193548387097%\n"
     ]
    },
    {
     "name": "stderr",
     "output_type": "stream",
     "text": [
      "Epoch 7: 100%|██████████████████████████████████████████████████████████████████████| 68/68 [01:37<00:00,  1.43s/batch]\n"
     ]
    },
    {
     "name": "stdout",
     "output_type": "stream",
     "text": [
      "Training Loss: 0.29344284446800456\n",
      "Validation Loss: 1.043962274491787\n",
      "Accuracy: 82.74193548387096%\n"
     ]
    },
    {
     "name": "stderr",
     "output_type": "stream",
     "text": [
      "Epoch 8: 100%|██████████████████████████████████████████████████████████████████████| 68/68 [03:35<00:00,  3.18s/batch]\n"
     ]
    },
    {
     "name": "stdout",
     "output_type": "stream",
     "text": [
      "Training Loss: 0.23250648894292467\n",
      "Validation Loss: 1.1809935696423053\n",
      "Accuracy: 84.6774193548387%\n"
     ]
    },
    {
     "name": "stderr",
     "output_type": "stream",
     "text": [
      "Epoch 9: 100%|██████████████████████████████████████████████████████████████████████| 68/68 [03:27<00:00,  3.05s/batch]\n"
     ]
    },
    {
     "name": "stdout",
     "output_type": "stream",
     "text": [
      "Training Loss: 0.09763398015981212\n",
      "Validation Loss: 0.646153599023819\n",
      "Accuracy: 88.87096774193549%\n"
     ]
    },
    {
     "name": "stderr",
     "output_type": "stream",
     "text": [
      "Epoch 10: 100%|█████████████████████████████████████████████████████████████████████| 68/68 [01:36<00:00,  1.42s/batch]\n"
     ]
    },
    {
     "name": "stdout",
     "output_type": "stream",
     "text": [
      "Training Loss: 0.08253908147761489\n",
      "Validation Loss: 0.942716097831726\n",
      "Accuracy: 85.3225806451613%\n"
     ]
    },
    {
     "name": "stderr",
     "output_type": "stream",
     "text": [
      "Epoch 11: 100%|█████████████████████████████████████████████████████████████████████| 68/68 [01:37<00:00,  1.44s/batch]\n"
     ]
    },
    {
     "name": "stdout",
     "output_type": "stream",
     "text": [
      "Training Loss: 0.08834051092922249\n",
      "Validation Loss: 1.0000353664159776\n",
      "Accuracy: 85.3225806451613%\n"
     ]
    },
    {
     "name": "stderr",
     "output_type": "stream",
     "text": [
      "Epoch 12: 100%|█████████████████████████████████████████████████████████████████████| 68/68 [01:37<00:00,  1.43s/batch]\n"
     ]
    },
    {
     "name": "stdout",
     "output_type": "stream",
     "text": [
      "Training Loss: 0.07892466489883031\n",
      "Validation Loss: 0.9533320248126984\n",
      "Accuracy: 86.45161290322581%\n"
     ]
    },
    {
     "name": "stderr",
     "output_type": "stream",
     "text": [
      "Epoch 13: 100%|█████████████████████████████████████████████████████████████████████| 68/68 [01:37<00:00,  1.43s/batch]\n"
     ]
    },
    {
     "name": "stdout",
     "output_type": "stream",
     "text": [
      "Training Loss: 0.06989248094203718\n",
      "Validation Loss: 0.34624739214777944\n",
      "Accuracy: 94.6774193548387%\n"
     ]
    },
    {
     "name": "stderr",
     "output_type": "stream",
     "text": [
      "Epoch 14: 100%|█████████████████████████████████████████████████████████████████████| 68/68 [01:37<00:00,  1.44s/batch]\n"
     ]
    },
    {
     "name": "stdout",
     "output_type": "stream",
     "text": [
      "Training Loss: 0.05856195779051632\n",
      "Validation Loss: 0.22466469295322894\n",
      "Accuracy: 96.61290322580645%\n"
     ]
    },
    {
     "name": "stderr",
     "output_type": "stream",
     "text": [
      "Epoch 15: 100%|█████████████████████████████████████████████████████████████████████| 68/68 [01:37<00:00,  1.43s/batch]\n"
     ]
    },
    {
     "name": "stdout",
     "output_type": "stream",
     "text": [
      "Training Loss: 0.021485009484047836\n",
      "Validation Loss: 0.27716084560379384\n",
      "Accuracy: 96.61290322580645%\n",
      "Finished Training\n"
     ]
    }
   ],
   "source": [
    "from tqdm import tqdm\n",
    "\n",
    "device = torch.device('cuda' if torch.cuda.is_available() else 'cpu') # use gpu for faster training.\n",
    "model = VGG16(num_classes=len(custom_dataset.classes)).to(device)  \n",
    "\n",
    "criterion = nn.CrossEntropyLoss()\n",
    "optimizer = optim.SGD(model.parameters(), lr=0.005, weight_decay = 0.005, momentum = 0.9)  \n",
    "\n",
    "model.train()\n",
    "\n",
    "# Training\n",
    "for epoch in range(15):\n",
    "    running_loss = 0.0\n",
    "    for images, labels in tqdm(train_dataloader, desc=f\"Epoch {epoch+1}\", unit=\"batch\"):\n",
    "        \n",
    "        images, labels = images.to(device), labels.to(device)\n",
    "        optimizer.zero_grad()\n",
    "\n",
    "        # Forward pass\n",
    "        outputs = model(images)\n",
    "        loss = criterion(outputs, labels)\n",
    "\n",
    "        # Backward pass\n",
    "        loss.backward()\n",
    "        optimizer.step()\n",
    "\n",
    "        running_loss += loss.item()\n",
    "        \n",
    "    print(f\"Training Loss: {running_loss / len(train_dataloader)}\")\n",
    "\n",
    "    # Validation\n",
    "    model.eval()\n",
    "    test_loss = 0.0\n",
    "    correct = 0\n",
    "    total = 0\n",
    "    with torch.no_grad():\n",
    "        for images, labels in val_dataloader:\n",
    "            images, labels = images.to(device), labels.to(device)\n",
    "            outputs = model(images)\n",
    "            loss = criterion(outputs, labels)\n",
    "            test_loss += loss.item()\n",
    "            _, predicted = outputs.max(1)\n",
    "            total += labels.size(0)\n",
    "            correct += predicted.eq(labels).sum().item()\n",
    "\n",
    "    avg_val_loss = test_loss / len(test_dataloader)\n",
    "    accuracy = 100 * correct / total\n",
    "    print(f'Validation Loss: {avg_val_loss}')\n",
    "    print(f'Accuracy: {accuracy}%')\n",
    "    model.train()\n",
    "print('Finished Training')\n"
   ]
  },
  {
   "cell_type": "code",
   "execution_count": 10,
   "id": "cfb9132d",
   "metadata": {},
   "outputs": [
    {
     "name": "stdout",
     "output_type": "stream",
     "text": [
      "Test Loss: 0.13\n",
      "Test Accuracy: 97.12%\n"
     ]
    }
   ],
   "source": [
    "# Testing \n",
    "model.eval()\n",
    "test_loss = 0.0\n",
    "correct_test = 0\n",
    "total_test = 0\n",
    "\n",
    "with torch.no_grad():\n",
    "    for images, labels in test_dataloader:\n",
    "        images, labels = images.to(device), labels.to(device)\n",
    "        outputs = model(images)\n",
    "        loss = criterion(outputs, labels)\n",
    "        test_loss += loss.item()\n",
    "        _, predicted = outputs.max(1)\n",
    "        total_test += labels.size(0)\n",
    "        correct_test += predicted.eq(labels).sum().item()\n",
    "\n",
    "avg_test_loss = test_loss / len(test_dataloader)\n",
    "test_accuracy = 100 * correct_test / total_test\n",
    "print(f'Test Loss: {avg_test_loss:.2f}')\n",
    "print(f'Test Accuracy: {test_accuracy:.2f}%')\n"
   ]
  },
  {
   "cell_type": "code",
   "execution_count": null,
   "id": "864465ed",
   "metadata": {},
   "outputs": [],
   "source": []
  }
 ],
 "metadata": {
  "kernelspec": {
   "display_name": "Python 3 (ipykernel)",
   "language": "python",
   "name": "python3"
  },
  "language_info": {
   "codemirror_mode": {
    "name": "ipython",
    "version": 3
   },
   "file_extension": ".py",
   "mimetype": "text/x-python",
   "name": "python",
   "nbconvert_exporter": "python",
   "pygments_lexer": "ipython3",
   "version": "3.10.9"
  }
 },
 "nbformat": 4,
 "nbformat_minor": 5
}
